{
 "cells": [
  {
   "cell_type": "code",
   "execution_count": 1,
   "id": "2c6600fd",
   "metadata": {},
   "outputs": [],
   "source": [
    "import sympy as sp\n",
    "import numpy as np\n",
    "import matplotlib.pyplot as plt"
   ]
  },
  {
   "cell_type": "code",
   "execution_count": 2,
   "id": "f5327453",
   "metadata": {},
   "outputs": [],
   "source": [
    "## 定义一个符号\n",
    "x=sp.symbols('x')"
   ]
  },
  {
   "cell_type": "code",
   "execution_count": 7,
   "id": "a668d2da",
   "metadata": {},
   "outputs": [
    {
     "data": {
      "text/latex": [
       "$\\displaystyle \\frac{x}{2}$"
      ],
      "text/plain": [
       "x/2"
      ]
     },
     "execution_count": 7,
     "metadata": {},
     "output_type": "execute_result"
    }
   ],
   "source": [
    "x/2"
   ]
  },
  {
   "cell_type": "code",
   "execution_count": null,
   "id": "c61cca85",
   "metadata": {},
   "outputs": [
    {
     "data": {
      "text/latex": [
       "$\\displaystyle x^{2}$"
      ],
      "text/plain": [
       "x**2"
      ]
     },
     "execution_count": 8,
     "metadata": {},
     "output_type": "execute_result"
    }
   ],
   "source": [
    "x**2 #可以人性化的显示"
   ]
  },
  {
   "cell_type": "code",
   "execution_count": 10,
   "id": "8d46d783",
   "metadata": {},
   "outputs": [
    {
     "data": {
      "text/latex": [
       "$\\displaystyle \\sin{\\left(x \\right)}$"
      ],
      "text/plain": [
       "sin(x)"
      ]
     },
     "execution_count": 10,
     "metadata": {},
     "output_type": "execute_result"
    }
   ],
   "source": [
    "# np.sin(x) 这是不行的，numpy处理不了这样的数据类型\n",
    "sp.sin(x)\n"
   ]
  },
  {
   "cell_type": "code",
   "execution_count": 12,
   "id": "6a7309a2",
   "metadata": {},
   "outputs": [
    {
     "data": {
      "text/latex": [
       "$\\displaystyle x^{2} + 4 x + 3$"
      ],
      "text/plain": [
       "x**2 + 4*x + 3"
      ]
     },
     "execution_count": 12,
     "metadata": {},
     "output_type": "execute_result"
    }
   ],
   "source": [
    "y=x**2+4*x+3\n",
    "y"
   ]
  },
  {
   "cell_type": "code",
   "execution_count": 18,
   "id": "8ea9080f",
   "metadata": {},
   "outputs": [],
   "source": [
    "z=y**2"
   ]
  },
  {
   "cell_type": "code",
   "execution_count": 19,
   "id": "f84f6e17",
   "metadata": {},
   "outputs": [
    {
     "data": {
      "text/latex": [
       "$\\displaystyle \\left(x + 1\\right)^{2} \\left(x + 3\\right)^{2}$"
      ],
      "text/plain": [
       "(x + 1)**2*(x + 3)**2"
      ]
     },
     "execution_count": 19,
     "metadata": {},
     "output_type": "execute_result"
    }
   ],
   "source": [
    "z.factor()"
   ]
  },
  {
   "cell_type": "code",
   "execution_count": 20,
   "id": "701e7764",
   "metadata": {},
   "outputs": [
    {
     "data": {
      "text/latex": [
       "$\\displaystyle x^{4} + 8 x^{3} + 22 x^{2} + 24 x + 9$"
      ],
      "text/plain": [
       "x**4 + 8*x**3 + 22*x**2 + 24*x + 9"
      ]
     },
     "execution_count": 20,
     "metadata": {},
     "output_type": "execute_result"
    }
   ],
   "source": [
    "z.expand()"
   ]
  },
  {
   "cell_type": "code",
   "execution_count": 26,
   "id": "e011315c",
   "metadata": {},
   "outputs": [
    {
     "data": {
      "text/latex": [
       "$\\displaystyle \\left(x^{2} + 4 x + 3\\right)^{2}$"
      ],
      "text/plain": [
       "(x**2 + 4*x + 3)**2"
      ]
     },
     "execution_count": 26,
     "metadata": {},
     "output_type": "execute_result"
    }
   ],
   "source": [
    "z"
   ]
  },
  {
   "cell_type": "code",
   "execution_count": 27,
   "id": "db7c52dc",
   "metadata": {},
   "outputs": [
    {
     "data": {
      "text/plain": [
       "[-3, -1]"
      ]
     },
     "execution_count": 27,
     "metadata": {},
     "output_type": "execute_result"
    }
   ],
   "source": [
    "# 解方程expr=0\n",
    "sp.solve(z,x)"
   ]
  },
  {
   "cell_type": "code",
   "execution_count": 57,
   "id": "58dcca6d",
   "metadata": {},
   "outputs": [
    {
     "data": {
      "text/latex": [
       "$\\displaystyle a x^{2} + b x + c$"
      ],
      "text/plain": [
       "a*x**2 + b*x + c"
      ]
     },
     "execution_count": 57,
     "metadata": {},
     "output_type": "execute_result"
    }
   ],
   "source": [
    "a=sp.Symbol('a')\n",
    "b=sp.Symbol('b')\n",
    "c=sp.Symbol('c')\n",
    "x=sp.Symbol('x')\n",
    "y=a*x**2+b*x+c\n",
    "y\n"
   ]
  },
  {
   "cell_type": "code",
   "execution_count": 58,
   "id": "49e83896",
   "metadata": {},
   "outputs": [
    {
     "data": {
      "text/latex": [
       "$\\displaystyle \\frac{- b - \\sqrt{- 4 a c + b^{2}}}{2 a}$"
      ],
      "text/plain": [
       "(-b - sqrt(-4*a*c + b**2))/(2*a)"
      ]
     },
     "execution_count": 58,
     "metadata": {},
     "output_type": "execute_result"
    }
   ],
   "source": [
    "solutions=sp.solve(y,x)\n",
    "z=solutions[0]\n",
    "z"
   ]
  },
  {
   "cell_type": "code",
   "execution_count": 59,
   "id": "7802183a",
   "metadata": {},
   "outputs": [
    {
     "data": {
      "text/latex": [
       "$\\displaystyle x$"
      ],
      "text/plain": [
       "x"
      ]
     },
     "execution_count": 59,
     "metadata": {},
     "output_type": "execute_result"
    }
   ],
   "source": [
    "# 不要虚数解\n",
    "sp.solve(y,x,imaginary=False)\n",
    "x=sp.symbols('x',real=True,positive=True) #相当于对变量加直接约束\n",
    "x"
   ]
  },
  {
   "cell_type": "code",
   "execution_count": 60,
   "id": "9dac9b07",
   "metadata": {},
   "outputs": [
    {
     "data": {
      "text/plain": [
       "27"
      ]
     },
     "execution_count": 60,
     "metadata": {},
     "output_type": "execute_result"
    }
   ],
   "source": [
    "# 将表达式转化为函数\n",
    "expr_f=sp.lambdify([a,b,c,x],y)\n",
    "expr_f(1,2,3,4)\n"
   ]
  },
  {
   "cell_type": "code",
   "execution_count": 61,
   "id": "d02c4762",
   "metadata": {},
   "outputs": [
    {
     "data": {
      "text/plain": [
       "[<matplotlib.lines.Line2D at 0x1493798b310>]"
      ]
     },
     "execution_count": 61,
     "metadata": {},
     "output_type": "execute_result"
    },
    {
     "data": {
      "image/png": "[encoded data removed]",
      "text/plain": [
       "<Figure size 640x480 with 1 Axes>"
      ]
     },
     "metadata": {},
     "output_type": "display_data"
    }
   ],
   "source": [
    "# 研究b对二次函数的影响\n",
    "a=1\n",
    "c=1\n",
    "b=2\n",
    "x=np.linspace(-5,5,100)\n",
    "y=expr_f(a,b,c,x)\n",
    "\n",
    "\n",
    "plt.plot(x,y)\n",
    "y=expr_f(a,3,c,x)\n",
    "plt.plot(x,y)\n",
    "\n"
   ]
  },
  {
   "cell_type": "code",
   "execution_count": 63,
   "id": "23eaf2fc",
   "metadata": {},
   "outputs": [
    {
     "data": {
      "text/latex": [
       "$\\displaystyle x^{2} + y \\sin{\\left(z \\right)}$"
      ],
      "text/plain": [
       "x**2 + y*sin(z)"
      ]
     },
     "execution_count": 63,
     "metadata": {},
     "output_type": "execute_result"
    }
   ],
   "source": [
    "x=sp.symbols('x')\n",
    "y=sp.symbols('y')\n",
    "z=sp.symbols('z')\n",
    "f=x**2+y*sp.sin(z)\n",
    "f\n"
   ]
  },
  {
   "cell_type": "code",
   "execution_count": null,
   "id": "0fd24f17",
   "metadata": {},
   "outputs": [
    {
     "data": {
      "text/latex": [
       "$\\displaystyle y \\sin{\\left(z \\right)} + 1$"
      ],
      "text/plain": [
       "y*sin(z) + 1"
      ]
     },
     "execution_count": 64,
     "metadata": {},
     "output_type": "execute_result"
    }
   ],
   "source": [
    "f.subs([(x,1)])  "
   ]
  },
  {
   "cell_type": "markdown",
   "id": "792047ed",
   "metadata": {},
   "source": [
    "## 解方程组"
   ]
  },
  {
   "cell_type": "code",
   "execution_count": null,
   "id": "4fd3acc5",
   "metadata": {},
   "outputs": [
    {
     "data": {
      "text/latex": [
       "$\\displaystyle q t + vp$"
      ],
      "text/plain": [
       "q*t + vp"
      ]
     },
     "execution_count": 3,
     "metadata": {},
     "output_type": "execute_result"
    }
   ],
   "source": [
    "import sympy as sp\n",
    "h0,v0,g,t,vp,q = sp.symbols('h0 v0 g t vp q',real=True,positive=True)\n",
    "h0t =h0-v0*t-sp.Rational(1,2)*g*t**2\n",
    "dh0dt=sp.diff(h0t,t)\n",
    "hpt=vp*t+sp.Rational(1,2)*q*t**2\n",
    "dhpdt=sp.diff(hpt,t)"
   ]
  },
  {
   "cell_type": "code",
   "execution_count": 14,
   "id": "9a2d133c",
   "metadata": {},
   "outputs": [
    {
     "data": {
      "text/latex": [
       "$\\displaystyle \\frac{3}{5} + \\frac{2 \\sqrt{6}}{5}$"
      ],
      "text/plain": [
       "3/5 + 2*sqrt(6)/5"
      ]
     },
     "execution_count": 14,
     "metadata": {},
     "output_type": "execute_result"
    }
   ],
   "source": [
    "equl_1=h0t-hpt\n",
    "equl_2=dh0dt+dhpdt\n",
    "sol=sp.solve([equl_1,equl_2],[t,vp])\n",
    "sol[0][1].subs([(v0,1),(g,2),(q,1),(h0,2)]).simplify()"
   ]
  },
  {
   "cell_type": "markdown",
   "id": "febba7fa",
   "metadata": {},
   "source": [
    "## 微积分基础"
   ]
  },
  {
   "cell_type": "code",
   "execution_count": null,
   "id": "741223e9",
   "metadata": {},
   "outputs": [],
   "source": []
  }
 ],
 "metadata": {
  "kernelspec": {
   "display_name": "dataprocess",
   "language": "python",
   "name": "python3"
  },
  "language_info": {
   "codemirror_mode": {
    "name": "ipython",
    "version": 3
   },
   "file_extension": ".py",
   "mimetype": "text/x-python",
   "name": "python",
   "nbconvert_exporter": "python",
   "pygments_lexer": "ipython3",
   "version": "3.11.11"
  }
 },
 "nbformat": 4,
 "nbformat_minor": 5
}
